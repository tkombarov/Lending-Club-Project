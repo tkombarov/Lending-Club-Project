{
 "cells": [
  {
   "cell_type": "markdown",
   "metadata": {},
   "source": [
    "# Credit Model"
   ]
  },
  {
   "cell_type": "code",
   "execution_count": 1,
   "metadata": {},
   "outputs": [],
   "source": [
    "import pandas as pd\n",
    "import numpy as np\n",
    "import datetime\n",
    "import matplotlib.pyplot as plt\n",
    "from mlxtend.plotting import plot_confusion_matrix\n",
    "\n",
    "from pandas.tseries.offsets import *\n",
    "pd.set_option('display.max_columns', 500)\n",
    "\n",
    "from scipy import stats\n",
    "from sklearn import metrics\n",
    "from sklearn.metrics import accuracy_score, confusion_matrix, classification_report, roc_curve, auc"
   ]
  },
  {
   "cell_type": "code",
   "execution_count": 2,
   "metadata": {},
   "outputs": [],
   "source": [
    "df = pd.read_excel('2007_2011.xlsx')"
   ]
  },
  {
   "cell_type": "markdown",
   "metadata": {},
   "source": [
    "# Data Cleaning"
   ]
  },
  {
   "cell_type": "code",
   "execution_count": 3,
   "metadata": {},
   "outputs": [],
   "source": [
    "df = df.dropna(thresh=df.shape[0]*0.5,how='all',axis=1)\n",
    "columns_after_drop = len(df.columns.to_list())"
   ]
  },
  {
   "cell_type": "code",
   "execution_count": 4,
   "metadata": {},
   "outputs": [],
   "source": [
    "del df['emp_title']\n",
    "del df['desc']"
   ]
  },
  {
   "cell_type": "code",
   "execution_count": 5,
   "metadata": {},
   "outputs": [],
   "source": [
    "#Removing all rows that are missing any data                 \n",
    "df = df.dropna(how='any',axis=0)\n",
    "df.reset_index(inplace=True)\n",
    "del df['index']"
   ]
  },
  {
   "cell_type": "code",
   "execution_count": 6,
   "metadata": {},
   "outputs": [
    {
     "data": {
      "text/html": [
       "<div>\n",
       "<style scoped>\n",
       "    .dataframe tbody tr th:only-of-type {\n",
       "        vertical-align: middle;\n",
       "    }\n",
       "\n",
       "    .dataframe tbody tr th {\n",
       "        vertical-align: top;\n",
       "    }\n",
       "\n",
       "    .dataframe thead th {\n",
       "        text-align: right;\n",
       "    }\n",
       "</style>\n",
       "<table border=\"1\" class=\"dataframe\">\n",
       "  <thead>\n",
       "    <tr style=\"text-align: right;\">\n",
       "      <th></th>\n",
       "      <th>loan_amnt</th>\n",
       "      <th>funded_amnt</th>\n",
       "      <th>funded_amnt_inv</th>\n",
       "      <th>term</th>\n",
       "      <th>int_rate</th>\n",
       "      <th>installment</th>\n",
       "      <th>grade</th>\n",
       "      <th>sub_grade</th>\n",
       "      <th>emp_length</th>\n",
       "      <th>home_ownership</th>\n",
       "      <th>annual_inc</th>\n",
       "      <th>verification_status</th>\n",
       "      <th>issue_d</th>\n",
       "      <th>loan_status</th>\n",
       "      <th>pymnt_plan</th>\n",
       "      <th>purpose</th>\n",
       "      <th>title</th>\n",
       "      <th>zip_code</th>\n",
       "      <th>addr_state</th>\n",
       "      <th>dti</th>\n",
       "      <th>delinq_2yrs</th>\n",
       "      <th>earliest_cr_line</th>\n",
       "      <th>inq_last_6mths</th>\n",
       "      <th>open_acc</th>\n",
       "      <th>pub_rec</th>\n",
       "      <th>revol_bal</th>\n",
       "      <th>revol_util</th>\n",
       "      <th>total_acc</th>\n",
       "      <th>initial_list_status</th>\n",
       "      <th>out_prncp</th>\n",
       "      <th>out_prncp_inv</th>\n",
       "      <th>total_pymnt</th>\n",
       "      <th>total_pymnt_inv</th>\n",
       "      <th>total_rec_prncp</th>\n",
       "      <th>total_rec_int</th>\n",
       "      <th>total_rec_late_fee</th>\n",
       "      <th>recoveries</th>\n",
       "      <th>collection_recovery_fee</th>\n",
       "      <th>last_pymnt_d</th>\n",
       "      <th>last_pymnt_amnt</th>\n",
       "      <th>last_credit_pull_d</th>\n",
       "      <th>collections_12_mths_ex_med</th>\n",
       "      <th>policy_code</th>\n",
       "      <th>application_type</th>\n",
       "      <th>acc_now_delinq</th>\n",
       "      <th>chargeoff_within_12_mths</th>\n",
       "      <th>delinq_amnt</th>\n",
       "      <th>pub_rec_bankruptcies</th>\n",
       "      <th>tax_liens</th>\n",
       "      <th>hardship_flag</th>\n",
       "      <th>disbursement_method</th>\n",
       "      <th>debt_settlement_flag</th>\n",
       "    </tr>\n",
       "  </thead>\n",
       "  <tbody>\n",
       "    <tr>\n",
       "      <th>0</th>\n",
       "      <td>5000.0</td>\n",
       "      <td>5000.0</td>\n",
       "      <td>4975.0</td>\n",
       "      <td>36 months</td>\n",
       "      <td>0.1065</td>\n",
       "      <td>162.87</td>\n",
       "      <td>B</td>\n",
       "      <td>B2</td>\n",
       "      <td>10+ years</td>\n",
       "      <td>RENT</td>\n",
       "      <td>24000.0</td>\n",
       "      <td>Verified</td>\n",
       "      <td>2011-12-01</td>\n",
       "      <td>Fully Paid</td>\n",
       "      <td>n</td>\n",
       "      <td>credit_card</td>\n",
       "      <td>Computer</td>\n",
       "      <td>860xx</td>\n",
       "      <td>AZ</td>\n",
       "      <td>27.65</td>\n",
       "      <td>0.0</td>\n",
       "      <td>1985-01-01</td>\n",
       "      <td>1.0</td>\n",
       "      <td>3.0</td>\n",
       "      <td>0.0</td>\n",
       "      <td>13648.0</td>\n",
       "      <td>0.837</td>\n",
       "      <td>9.0</td>\n",
       "      <td>f</td>\n",
       "      <td>0.0</td>\n",
       "      <td>0.0</td>\n",
       "      <td>5863.155187</td>\n",
       "      <td>5833.84</td>\n",
       "      <td>5000.00</td>\n",
       "      <td>863.16</td>\n",
       "      <td>0.00</td>\n",
       "      <td>0.0</td>\n",
       "      <td>0.00</td>\n",
       "      <td>2015-01-01</td>\n",
       "      <td>171.62</td>\n",
       "      <td>2017-11-01</td>\n",
       "      <td>0.0</td>\n",
       "      <td>1.0</td>\n",
       "      <td>Individual</td>\n",
       "      <td>0.0</td>\n",
       "      <td>0.0</td>\n",
       "      <td>0.0</td>\n",
       "      <td>0.0</td>\n",
       "      <td>0.0</td>\n",
       "      <td>N</td>\n",
       "      <td>Cash</td>\n",
       "      <td>N</td>\n",
       "    </tr>\n",
       "    <tr>\n",
       "      <th>1</th>\n",
       "      <td>2500.0</td>\n",
       "      <td>2500.0</td>\n",
       "      <td>2500.0</td>\n",
       "      <td>60 months</td>\n",
       "      <td>0.1527</td>\n",
       "      <td>59.83</td>\n",
       "      <td>C</td>\n",
       "      <td>C4</td>\n",
       "      <td>&lt; 1 year</td>\n",
       "      <td>RENT</td>\n",
       "      <td>30000.0</td>\n",
       "      <td>Source Verified</td>\n",
       "      <td>2011-12-01</td>\n",
       "      <td>Charged Off</td>\n",
       "      <td>n</td>\n",
       "      <td>car</td>\n",
       "      <td>bike</td>\n",
       "      <td>309xx</td>\n",
       "      <td>GA</td>\n",
       "      <td>1.00</td>\n",
       "      <td>0.0</td>\n",
       "      <td>1999-04-01</td>\n",
       "      <td>5.0</td>\n",
       "      <td>3.0</td>\n",
       "      <td>0.0</td>\n",
       "      <td>1687.0</td>\n",
       "      <td>0.094</td>\n",
       "      <td>4.0</td>\n",
       "      <td>f</td>\n",
       "      <td>0.0</td>\n",
       "      <td>0.0</td>\n",
       "      <td>1014.530000</td>\n",
       "      <td>1014.53</td>\n",
       "      <td>456.46</td>\n",
       "      <td>435.17</td>\n",
       "      <td>0.00</td>\n",
       "      <td>122.9</td>\n",
       "      <td>1.11</td>\n",
       "      <td>2013-04-01</td>\n",
       "      <td>119.66</td>\n",
       "      <td>2016-10-01</td>\n",
       "      <td>0.0</td>\n",
       "      <td>1.0</td>\n",
       "      <td>Individual</td>\n",
       "      <td>0.0</td>\n",
       "      <td>0.0</td>\n",
       "      <td>0.0</td>\n",
       "      <td>0.0</td>\n",
       "      <td>0.0</td>\n",
       "      <td>N</td>\n",
       "      <td>Cash</td>\n",
       "      <td>N</td>\n",
       "    </tr>\n",
       "    <tr>\n",
       "      <th>2</th>\n",
       "      <td>2400.0</td>\n",
       "      <td>2400.0</td>\n",
       "      <td>2400.0</td>\n",
       "      <td>36 months</td>\n",
       "      <td>0.1596</td>\n",
       "      <td>84.33</td>\n",
       "      <td>C</td>\n",
       "      <td>C5</td>\n",
       "      <td>10+ years</td>\n",
       "      <td>RENT</td>\n",
       "      <td>12252.0</td>\n",
       "      <td>Not Verified</td>\n",
       "      <td>2011-12-01</td>\n",
       "      <td>Fully Paid</td>\n",
       "      <td>n</td>\n",
       "      <td>small_business</td>\n",
       "      <td>real estate business</td>\n",
       "      <td>606xx</td>\n",
       "      <td>IL</td>\n",
       "      <td>8.72</td>\n",
       "      <td>0.0</td>\n",
       "      <td>2001-11-01</td>\n",
       "      <td>2.0</td>\n",
       "      <td>2.0</td>\n",
       "      <td>0.0</td>\n",
       "      <td>2956.0</td>\n",
       "      <td>0.985</td>\n",
       "      <td>10.0</td>\n",
       "      <td>f</td>\n",
       "      <td>0.0</td>\n",
       "      <td>0.0</td>\n",
       "      <td>3005.666844</td>\n",
       "      <td>3005.67</td>\n",
       "      <td>2400.00</td>\n",
       "      <td>605.67</td>\n",
       "      <td>0.00</td>\n",
       "      <td>0.0</td>\n",
       "      <td>0.00</td>\n",
       "      <td>2014-06-01</td>\n",
       "      <td>649.91</td>\n",
       "      <td>2017-06-01</td>\n",
       "      <td>0.0</td>\n",
       "      <td>1.0</td>\n",
       "      <td>Individual</td>\n",
       "      <td>0.0</td>\n",
       "      <td>0.0</td>\n",
       "      <td>0.0</td>\n",
       "      <td>0.0</td>\n",
       "      <td>0.0</td>\n",
       "      <td>N</td>\n",
       "      <td>Cash</td>\n",
       "      <td>N</td>\n",
       "    </tr>\n",
       "    <tr>\n",
       "      <th>3</th>\n",
       "      <td>10000.0</td>\n",
       "      <td>10000.0</td>\n",
       "      <td>10000.0</td>\n",
       "      <td>36 months</td>\n",
       "      <td>0.1349</td>\n",
       "      <td>339.31</td>\n",
       "      <td>C</td>\n",
       "      <td>C1</td>\n",
       "      <td>10+ years</td>\n",
       "      <td>RENT</td>\n",
       "      <td>49200.0</td>\n",
       "      <td>Source Verified</td>\n",
       "      <td>2011-12-01</td>\n",
       "      <td>Fully Paid</td>\n",
       "      <td>n</td>\n",
       "      <td>other</td>\n",
       "      <td>personel</td>\n",
       "      <td>917xx</td>\n",
       "      <td>CA</td>\n",
       "      <td>20.00</td>\n",
       "      <td>0.0</td>\n",
       "      <td>1996-02-01</td>\n",
       "      <td>1.0</td>\n",
       "      <td>10.0</td>\n",
       "      <td>0.0</td>\n",
       "      <td>5598.0</td>\n",
       "      <td>0.210</td>\n",
       "      <td>37.0</td>\n",
       "      <td>f</td>\n",
       "      <td>0.0</td>\n",
       "      <td>0.0</td>\n",
       "      <td>12231.890000</td>\n",
       "      <td>12231.89</td>\n",
       "      <td>10000.00</td>\n",
       "      <td>2214.92</td>\n",
       "      <td>16.97</td>\n",
       "      <td>0.0</td>\n",
       "      <td>0.00</td>\n",
       "      <td>2015-01-01</td>\n",
       "      <td>357.48</td>\n",
       "      <td>2016-04-01</td>\n",
       "      <td>0.0</td>\n",
       "      <td>1.0</td>\n",
       "      <td>Individual</td>\n",
       "      <td>0.0</td>\n",
       "      <td>0.0</td>\n",
       "      <td>0.0</td>\n",
       "      <td>0.0</td>\n",
       "      <td>0.0</td>\n",
       "      <td>N</td>\n",
       "      <td>Cash</td>\n",
       "      <td>N</td>\n",
       "    </tr>\n",
       "    <tr>\n",
       "      <th>4</th>\n",
       "      <td>3000.0</td>\n",
       "      <td>3000.0</td>\n",
       "      <td>3000.0</td>\n",
       "      <td>60 months</td>\n",
       "      <td>0.1269</td>\n",
       "      <td>67.79</td>\n",
       "      <td>B</td>\n",
       "      <td>B5</td>\n",
       "      <td>1 year</td>\n",
       "      <td>RENT</td>\n",
       "      <td>80000.0</td>\n",
       "      <td>Source Verified</td>\n",
       "      <td>2011-12-01</td>\n",
       "      <td>Fully Paid</td>\n",
       "      <td>n</td>\n",
       "      <td>other</td>\n",
       "      <td>Personal</td>\n",
       "      <td>972xx</td>\n",
       "      <td>OR</td>\n",
       "      <td>17.94</td>\n",
       "      <td>0.0</td>\n",
       "      <td>1996-01-01</td>\n",
       "      <td>0.0</td>\n",
       "      <td>15.0</td>\n",
       "      <td>0.0</td>\n",
       "      <td>27783.0</td>\n",
       "      <td>0.539</td>\n",
       "      <td>38.0</td>\n",
       "      <td>f</td>\n",
       "      <td>0.0</td>\n",
       "      <td>0.0</td>\n",
       "      <td>4066.908161</td>\n",
       "      <td>4066.91</td>\n",
       "      <td>3000.00</td>\n",
       "      <td>1066.91</td>\n",
       "      <td>0.00</td>\n",
       "      <td>0.0</td>\n",
       "      <td>0.00</td>\n",
       "      <td>2017-01-01</td>\n",
       "      <td>67.30</td>\n",
       "      <td>2017-01-01</td>\n",
       "      <td>0.0</td>\n",
       "      <td>1.0</td>\n",
       "      <td>Individual</td>\n",
       "      <td>0.0</td>\n",
       "      <td>0.0</td>\n",
       "      <td>0.0</td>\n",
       "      <td>0.0</td>\n",
       "      <td>0.0</td>\n",
       "      <td>N</td>\n",
       "      <td>Cash</td>\n",
       "      <td>N</td>\n",
       "    </tr>\n",
       "  </tbody>\n",
       "</table>\n",
       "</div>"
      ],
      "text/plain": [
       "   loan_amnt  funded_amnt  funded_amnt_inv        term  int_rate  installment  \\\n",
       "0     5000.0       5000.0           4975.0   36 months    0.1065       162.87   \n",
       "1     2500.0       2500.0           2500.0   60 months    0.1527        59.83   \n",
       "2     2400.0       2400.0           2400.0   36 months    0.1596        84.33   \n",
       "3    10000.0      10000.0          10000.0   36 months    0.1349       339.31   \n",
       "4     3000.0       3000.0           3000.0   60 months    0.1269        67.79   \n",
       "\n",
       "  grade sub_grade emp_length home_ownership  annual_inc verification_status  \\\n",
       "0     B        B2  10+ years           RENT     24000.0            Verified   \n",
       "1     C        C4   < 1 year           RENT     30000.0     Source Verified   \n",
       "2     C        C5  10+ years           RENT     12252.0        Not Verified   \n",
       "3     C        C1  10+ years           RENT     49200.0     Source Verified   \n",
       "4     B        B5     1 year           RENT     80000.0     Source Verified   \n",
       "\n",
       "     issue_d  loan_status pymnt_plan         purpose                 title  \\\n",
       "0 2011-12-01   Fully Paid          n     credit_card              Computer   \n",
       "1 2011-12-01  Charged Off          n             car                  bike   \n",
       "2 2011-12-01   Fully Paid          n  small_business  real estate business   \n",
       "3 2011-12-01   Fully Paid          n           other              personel   \n",
       "4 2011-12-01   Fully Paid          n           other              Personal   \n",
       "\n",
       "  zip_code addr_state    dti  delinq_2yrs earliest_cr_line  inq_last_6mths  \\\n",
       "0    860xx         AZ  27.65          0.0       1985-01-01             1.0   \n",
       "1    309xx         GA   1.00          0.0       1999-04-01             5.0   \n",
       "2    606xx         IL   8.72          0.0       2001-11-01             2.0   \n",
       "3    917xx         CA  20.00          0.0       1996-02-01             1.0   \n",
       "4    972xx         OR  17.94          0.0       1996-01-01             0.0   \n",
       "\n",
       "   open_acc  pub_rec  revol_bal  revol_util  total_acc initial_list_status  \\\n",
       "0       3.0      0.0    13648.0       0.837        9.0                   f   \n",
       "1       3.0      0.0     1687.0       0.094        4.0                   f   \n",
       "2       2.0      0.0     2956.0       0.985       10.0                   f   \n",
       "3      10.0      0.0     5598.0       0.210       37.0                   f   \n",
       "4      15.0      0.0    27783.0       0.539       38.0                   f   \n",
       "\n",
       "   out_prncp  out_prncp_inv   total_pymnt  total_pymnt_inv  total_rec_prncp  \\\n",
       "0        0.0            0.0   5863.155187          5833.84          5000.00   \n",
       "1        0.0            0.0   1014.530000          1014.53           456.46   \n",
       "2        0.0            0.0   3005.666844          3005.67          2400.00   \n",
       "3        0.0            0.0  12231.890000         12231.89         10000.00   \n",
       "4        0.0            0.0   4066.908161          4066.91          3000.00   \n",
       "\n",
       "   total_rec_int  total_rec_late_fee  recoveries  collection_recovery_fee  \\\n",
       "0         863.16                0.00         0.0                     0.00   \n",
       "1         435.17                0.00       122.9                     1.11   \n",
       "2         605.67                0.00         0.0                     0.00   \n",
       "3        2214.92               16.97         0.0                     0.00   \n",
       "4        1066.91                0.00         0.0                     0.00   \n",
       "\n",
       "  last_pymnt_d  last_pymnt_amnt last_credit_pull_d  \\\n",
       "0   2015-01-01           171.62         2017-11-01   \n",
       "1   2013-04-01           119.66         2016-10-01   \n",
       "2   2014-06-01           649.91         2017-06-01   \n",
       "3   2015-01-01           357.48         2016-04-01   \n",
       "4   2017-01-01            67.30         2017-01-01   \n",
       "\n",
       "   collections_12_mths_ex_med  policy_code application_type  acc_now_delinq  \\\n",
       "0                         0.0          1.0       Individual             0.0   \n",
       "1                         0.0          1.0       Individual             0.0   \n",
       "2                         0.0          1.0       Individual             0.0   \n",
       "3                         0.0          1.0       Individual             0.0   \n",
       "4                         0.0          1.0       Individual             0.0   \n",
       "\n",
       "   chargeoff_within_12_mths  delinq_amnt  pub_rec_bankruptcies  tax_liens  \\\n",
       "0                       0.0          0.0                   0.0        0.0   \n",
       "1                       0.0          0.0                   0.0        0.0   \n",
       "2                       0.0          0.0                   0.0        0.0   \n",
       "3                       0.0          0.0                   0.0        0.0   \n",
       "4                       0.0          0.0                   0.0        0.0   \n",
       "\n",
       "  hardship_flag disbursement_method debt_settlement_flag  \n",
       "0             N                Cash                    N  \n",
       "1             N                Cash                    N  \n",
       "2             N                Cash                    N  \n",
       "3             N                Cash                    N  \n",
       "4             N                Cash                    N  "
      ]
     },
     "execution_count": 6,
     "metadata": {},
     "output_type": "execute_result"
    }
   ],
   "source": [
    "df.head()"
   ]
  },
  {
   "cell_type": "markdown",
   "metadata": {},
   "source": [
    "# Dependent Variable: Defaults"
   ]
  },
  {
   "cell_type": "code",
   "execution_count": 7,
   "metadata": {},
   "outputs": [
    {
     "data": {
      "text/plain": [
       "Fully Paid                                             32646\n",
       "Charged Off                                             5242\n",
       "Does not meet the credit policy. Status:Fully Paid      1506\n",
       "Does not meet the credit policy. Status:Charged Off      518\n",
       "Name: loan_status, dtype: int64"
      ]
     },
     "execution_count": 7,
     "metadata": {},
     "output_type": "execute_result"
    }
   ],
   "source": [
    "df['loan_status'].value_counts()"
   ]
  },
  {
   "cell_type": "code",
   "execution_count": 8,
   "metadata": {},
   "outputs": [],
   "source": [
    "df['loan_status'] = np.where(df['loan_status'] == 'Does not meet the credit policy. Status:Fully Paid', \n",
    "                             'Fully Paid', df['loan_status'])"
   ]
  },
  {
   "cell_type": "code",
   "execution_count": 9,
   "metadata": {},
   "outputs": [],
   "source": [
    "df['loan_status'] = np.where(df['loan_status'] == 'Does not meet the credit policy. Status:Charged Off', \n",
    "                             'Charged Off', df['loan_status'])"
   ]
  },
  {
   "cell_type": "code",
   "execution_count": 10,
   "metadata": {},
   "outputs": [],
   "source": [
    "df['loan_status'] = np.where(df['loan_status'] == 'Charged Off', 1, 0)\n",
    "df['loan_status'] = df['loan_status'].astype(float)"
   ]
  },
  {
   "cell_type": "code",
   "execution_count": 11,
   "metadata": {},
   "outputs": [
    {
     "data": {
      "text/plain": [
       "<matplotlib.axes._subplots.AxesSubplot at 0x2aa6331ba48>"
      ]
     },
     "execution_count": 11,
     "metadata": {},
     "output_type": "execute_result"
    },
    {
     "data": {
      "image/png": "[encoded data removed]",
      "text/plain": [
       "<Figure size 432x288 with 1 Axes>"
      ]
     },
     "metadata": {
      "needs_background": "light"
     },
     "output_type": "display_data"
    }
   ],
   "source": [
    "df['loan_status'].value_counts().plot.bar()"
   ]
  },
  {
   "cell_type": "code",
   "execution_count": 12,
   "metadata": {},
   "outputs": [
    {
     "name": "stdout",
     "output_type": "stream",
     "text": [
      "Proportion of the classes in the data:\n",
      "0.0    0.86\n",
      "1.0    0.14\n",
      "Name: loan_status, dtype: float64\n"
     ]
    }
   ],
   "source": [
    "print('Proportion of the classes in the data:')\n",
    "print(round(df['loan_status'].value_counts() / len(df), 2))"
   ]
  },
  {
   "cell_type": "markdown",
   "metadata": {},
   "source": [
    "# Independent Variables"
   ]
  },
  {
   "cell_type": "code",
   "execution_count": 13,
   "metadata": {},
   "outputs": [
    {
     "data": {
      "text/plain": [
       "Not Verified       16869\n",
       "Verified           12967\n",
       "Source Verified    10076\n",
       "Name: verification_status, dtype: int64"
      ]
     },
     "execution_count": 13,
     "metadata": {},
     "output_type": "execute_result"
    }
   ],
   "source": [
    "df['verification_status'].value_counts()"
   ]
  },
  {
   "cell_type": "code",
   "execution_count": 14,
   "metadata": {},
   "outputs": [],
   "source": [
    "df['verification_status'] = np.where(df['verification_status'] == 'Source Verified', 'Verified', df['verification_status'])\n",
    "df['verification_status'] = np.where(df['verification_status'] == 'Verified', 1, 0)"
   ]
  },
  {
   "cell_type": "code",
   "execution_count": 15,
   "metadata": {},
   "outputs": [],
   "source": [
    "df['credit_history_length'] = round((df['issue_d'] - df['earliest_cr_line']) / np.timedelta64(1, 'Y'), 1)"
   ]
  },
  {
   "cell_type": "code",
   "execution_count": 16,
   "metadata": {},
   "outputs": [],
   "source": [
    "X = df[['dti', 'delinq_2yrs', 'credit_history_length', 'inq_last_6mths', 'pub_rec', \n",
    "        'revol_util', 'verification_status']]\n",
    "\n",
    "y = df['loan_status']"
   ]
  },
  {
   "cell_type": "code",
   "execution_count": 17,
   "metadata": {},
   "outputs": [
    {
     "data": {
      "text/html": [
       "<style  type=\"text/css\" >\n",
       "#T_34dcdb4a_6517_11eb_a20c_c0e43441f24erow0_col0,#T_34dcdb4a_6517_11eb_a20c_c0e43441f24erow1_col1,#T_34dcdb4a_6517_11eb_a20c_c0e43441f24erow2_col2,#T_34dcdb4a_6517_11eb_a20c_c0e43441f24erow3_col3,#T_34dcdb4a_6517_11eb_a20c_c0e43441f24erow4_col4,#T_34dcdb4a_6517_11eb_a20c_c0e43441f24erow5_col5,#T_34dcdb4a_6517_11eb_a20c_c0e43441f24erow6_col6{\n",
       "            background-color:  #b40426;\n",
       "            color:  #f1f1f1;\n",
       "        }#T_34dcdb4a_6517_11eb_a20c_c0e43441f24erow0_col1{\n",
       "            background-color:  #3d50c3;\n",
       "            color:  #f1f1f1;\n",
       "        }#T_34dcdb4a_6517_11eb_a20c_c0e43441f24erow0_col2{\n",
       "            background-color:  #536edd;\n",
       "            color:  #000000;\n",
       "        }#T_34dcdb4a_6517_11eb_a20c_c0e43441f24erow0_col3{\n",
       "            background-color:  #4b64d5;\n",
       "            color:  #f1f1f1;\n",
       "        }#T_34dcdb4a_6517_11eb_a20c_c0e43441f24erow0_col4{\n",
       "            background-color:  #3e51c5;\n",
       "            color:  #f1f1f1;\n",
       "        }#T_34dcdb4a_6517_11eb_a20c_c0e43441f24erow0_col5{\n",
       "            background-color:  #a2c1ff;\n",
       "            color:  #000000;\n",
       "        }#T_34dcdb4a_6517_11eb_a20c_c0e43441f24erow0_col6,#T_34dcdb4a_6517_11eb_a20c_c0e43441f24erow3_col0{\n",
       "            background-color:  #4961d2;\n",
       "            color:  #f1f1f1;\n",
       "        }#T_34dcdb4a_6517_11eb_a20c_c0e43441f24erow1_col0,#T_34dcdb4a_6517_11eb_a20c_c0e43441f24erow1_col5,#T_34dcdb4a_6517_11eb_a20c_c0e43441f24erow3_col5,#T_34dcdb4a_6517_11eb_a20c_c0e43441f24erow3_col6,#T_34dcdb4a_6517_11eb_a20c_c0e43441f24erow4_col6,#T_34dcdb4a_6517_11eb_a20c_c0e43441f24erow5_col1,#T_34dcdb4a_6517_11eb_a20c_c0e43441f24erow5_col2,#T_34dcdb4a_6517_11eb_a20c_c0e43441f24erow5_col3,#T_34dcdb4a_6517_11eb_a20c_c0e43441f24erow6_col4{\n",
       "            background-color:  #3b4cc0;\n",
       "            color:  #f1f1f1;\n",
       "        }#T_34dcdb4a_6517_11eb_a20c_c0e43441f24erow1_col2{\n",
       "            background-color:  #5572df;\n",
       "            color:  #000000;\n",
       "        }#T_34dcdb4a_6517_11eb_a20c_c0e43441f24erow1_col3,#T_34dcdb4a_6517_11eb_a20c_c0e43441f24erow3_col1,#T_34dcdb4a_6517_11eb_a20c_c0e43441f24erow4_col1,#T_34dcdb4a_6517_11eb_a20c_c0e43441f24erow6_col0{\n",
       "            background-color:  #4c66d6;\n",
       "            color:  #000000;\n",
       "        }#T_34dcdb4a_6517_11eb_a20c_c0e43441f24erow1_col4,#T_34dcdb4a_6517_11eb_a20c_c0e43441f24erow4_col0{\n",
       "            background-color:  #445acc;\n",
       "            color:  #f1f1f1;\n",
       "        }#T_34dcdb4a_6517_11eb_a20c_c0e43441f24erow1_col6,#T_34dcdb4a_6517_11eb_a20c_c0e43441f24erow2_col3{\n",
       "            background-color:  #4358cb;\n",
       "            color:  #f1f1f1;\n",
       "        }#T_34dcdb4a_6517_11eb_a20c_c0e43441f24erow2_col0{\n",
       "            background-color:  #5673e0;\n",
       "            color:  #000000;\n",
       "        }#T_34dcdb4a_6517_11eb_a20c_c0e43441f24erow2_col1{\n",
       "            background-color:  #5d7ce6;\n",
       "            color:  #000000;\n",
       "        }#T_34dcdb4a_6517_11eb_a20c_c0e43441f24erow2_col4{\n",
       "            background-color:  #4f69d9;\n",
       "            color:  #000000;\n",
       "        }#T_34dcdb4a_6517_11eb_a20c_c0e43441f24erow2_col5{\n",
       "            background-color:  #4257c9;\n",
       "            color:  #f1f1f1;\n",
       "        }#T_34dcdb4a_6517_11eb_a20c_c0e43441f24erow2_col6,#T_34dcdb4a_6517_11eb_a20c_c0e43441f24erow6_col2{\n",
       "            background-color:  #5470de;\n",
       "            color:  #000000;\n",
       "        }#T_34dcdb4a_6517_11eb_a20c_c0e43441f24erow3_col2{\n",
       "            background-color:  #3c4ec2;\n",
       "            color:  #f1f1f1;\n",
       "        }#T_34dcdb4a_6517_11eb_a20c_c0e43441f24erow3_col4,#T_34dcdb4a_6517_11eb_a20c_c0e43441f24erow5_col4{\n",
       "            background-color:  #516ddb;\n",
       "            color:  #000000;\n",
       "        }#T_34dcdb4a_6517_11eb_a20c_c0e43441f24erow4_col2,#T_34dcdb4a_6517_11eb_a20c_c0e43441f24erow5_col6{\n",
       "            background-color:  #506bda;\n",
       "            color:  #000000;\n",
       "        }#T_34dcdb4a_6517_11eb_a20c_c0e43441f24erow4_col3,#T_34dcdb4a_6517_11eb_a20c_c0e43441f24erow4_col5{\n",
       "            background-color:  #5977e3;\n",
       "            color:  #000000;\n",
       "        }#T_34dcdb4a_6517_11eb_a20c_c0e43441f24erow5_col0{\n",
       "            background-color:  #9fbfff;\n",
       "            color:  #000000;\n",
       "        }#T_34dcdb4a_6517_11eb_a20c_c0e43441f24erow6_col1{\n",
       "            background-color:  #4a63d3;\n",
       "            color:  #f1f1f1;\n",
       "        }#T_34dcdb4a_6517_11eb_a20c_c0e43441f24erow6_col3{\n",
       "            background-color:  #4055c8;\n",
       "            color:  #f1f1f1;\n",
       "        }#T_34dcdb4a_6517_11eb_a20c_c0e43441f24erow6_col5{\n",
       "            background-color:  #5875e1;\n",
       "            color:  #000000;\n",
       "        }</style><table id=\"T_34dcdb4a_6517_11eb_a20c_c0e43441f24e\" ><thead>    <tr>        <th class=\"blank level0\" ></th>        <th class=\"col_heading level0 col0\" >dti</th>        <th class=\"col_heading level0 col1\" >delinq_2yrs</th>        <th class=\"col_heading level0 col2\" >credit_history_length</th>        <th class=\"col_heading level0 col3\" >inq_last_6mths</th>        <th class=\"col_heading level0 col4\" >pub_rec</th>        <th class=\"col_heading level0 col5\" >revol_util</th>        <th class=\"col_heading level0 col6\" >verification_status</th>    </tr></thead><tbody>\n",
       "                <tr>\n",
       "                        <th id=\"T_34dcdb4a_6517_11eb_a20c_c0e43441f24elevel0_row0\" class=\"row_heading level0 row0\" >dti</th>\n",
       "                        <td id=\"T_34dcdb4a_6517_11eb_a20c_c0e43441f24erow0_col0\" class=\"data row0 col0\" >1.00</td>\n",
       "                        <td id=\"T_34dcdb4a_6517_11eb_a20c_c0e43441f24erow0_col1\" class=\"data row0 col1\" >-0.04</td>\n",
       "                        <td id=\"T_34dcdb4a_6517_11eb_a20c_c0e43441f24erow0_col2\" class=\"data row0 col2\" >0.06</td>\n",
       "                        <td id=\"T_34dcdb4a_6517_11eb_a20c_c0e43441f24erow0_col3\" class=\"data row0 col3\" >0.02</td>\n",
       "                        <td id=\"T_34dcdb4a_6517_11eb_a20c_c0e43441f24erow0_col4\" class=\"data row0 col4\" >-0.00</td>\n",
       "                        <td id=\"T_34dcdb4a_6517_11eb_a20c_c0e43441f24erow0_col5\" class=\"data row0 col5\" >0.28</td>\n",
       "                        <td id=\"T_34dcdb4a_6517_11eb_a20c_c0e43441f24erow0_col6\" class=\"data row0 col6\" >0.03</td>\n",
       "            </tr>\n",
       "            <tr>\n",
       "                        <th id=\"T_34dcdb4a_6517_11eb_a20c_c0e43441f24elevel0_row1\" class=\"row_heading level0 row1\" >delinq_2yrs</th>\n",
       "                        <td id=\"T_34dcdb4a_6517_11eb_a20c_c0e43441f24erow1_col0\" class=\"data row1 col0\" >-0.04</td>\n",
       "                        <td id=\"T_34dcdb4a_6517_11eb_a20c_c0e43441f24erow1_col1\" class=\"data row1 col1\" >1.00</td>\n",
       "                        <td id=\"T_34dcdb4a_6517_11eb_a20c_c0e43441f24erow1_col2\" class=\"data row1 col2\" >0.07</td>\n",
       "                        <td id=\"T_34dcdb4a_6517_11eb_a20c_c0e43441f24erow1_col3\" class=\"data row1 col3\" >0.02</td>\n",
       "                        <td id=\"T_34dcdb4a_6517_11eb_a20c_c0e43441f24erow1_col4\" class=\"data row1 col4\" >0.01</td>\n",
       "                        <td id=\"T_34dcdb4a_6517_11eb_a20c_c0e43441f24erow1_col5\" class=\"data row1 col5\" >-0.05</td>\n",
       "                        <td id=\"T_34dcdb4a_6517_11eb_a20c_c0e43441f24erow1_col6\" class=\"data row1 col6\" >0.01</td>\n",
       "            </tr>\n",
       "            <tr>\n",
       "                        <th id=\"T_34dcdb4a_6517_11eb_a20c_c0e43441f24elevel0_row2\" class=\"row_heading level0 row2\" >credit_history_length</th>\n",
       "                        <td id=\"T_34dcdb4a_6517_11eb_a20c_c0e43441f24erow2_col0\" class=\"data row2 col0\" >0.06</td>\n",
       "                        <td id=\"T_34dcdb4a_6517_11eb_a20c_c0e43441f24erow2_col1\" class=\"data row2 col1\" >0.07</td>\n",
       "                        <td id=\"T_34dcdb4a_6517_11eb_a20c_c0e43441f24erow2_col2\" class=\"data row2 col2\" >1.00</td>\n",
       "                        <td id=\"T_34dcdb4a_6517_11eb_a20c_c0e43441f24erow2_col3\" class=\"data row2 col3\" >-0.02</td>\n",
       "                        <td id=\"T_34dcdb4a_6517_11eb_a20c_c0e43441f24erow2_col4\" class=\"data row2 col4\" >0.05</td>\n",
       "                        <td id=\"T_34dcdb4a_6517_11eb_a20c_c0e43441f24erow2_col5\" class=\"data row2 col5\" >-0.02</td>\n",
       "                        <td id=\"T_34dcdb4a_6517_11eb_a20c_c0e43441f24erow2_col6\" class=\"data row2 col6\" >0.06</td>\n",
       "            </tr>\n",
       "            <tr>\n",
       "                        <th id=\"T_34dcdb4a_6517_11eb_a20c_c0e43441f24elevel0_row3\" class=\"row_heading level0 row3\" >inq_last_6mths</th>\n",
       "                        <td id=\"T_34dcdb4a_6517_11eb_a20c_c0e43441f24erow3_col0\" class=\"data row3 col0\" >0.02</td>\n",
       "                        <td id=\"T_34dcdb4a_6517_11eb_a20c_c0e43441f24erow3_col1\" class=\"data row3 col1\" >0.02</td>\n",
       "                        <td id=\"T_34dcdb4a_6517_11eb_a20c_c0e43441f24erow3_col2\" class=\"data row3 col2\" >-0.02</td>\n",
       "                        <td id=\"T_34dcdb4a_6517_11eb_a20c_c0e43441f24erow3_col3\" class=\"data row3 col3\" >1.00</td>\n",
       "                        <td id=\"T_34dcdb4a_6517_11eb_a20c_c0e43441f24erow3_col4\" class=\"data row3 col4\" >0.06</td>\n",
       "                        <td id=\"T_34dcdb4a_6517_11eb_a20c_c0e43441f24erow3_col5\" class=\"data row3 col5\" >-0.05</td>\n",
       "                        <td id=\"T_34dcdb4a_6517_11eb_a20c_c0e43441f24erow3_col6\" class=\"data row3 col6\" >-0.02</td>\n",
       "            </tr>\n",
       "            <tr>\n",
       "                        <th id=\"T_34dcdb4a_6517_11eb_a20c_c0e43441f24elevel0_row4\" class=\"row_heading level0 row4\" >pub_rec</th>\n",
       "                        <td id=\"T_34dcdb4a_6517_11eb_a20c_c0e43441f24erow4_col0\" class=\"data row4 col0\" >-0.00</td>\n",
       "                        <td id=\"T_34dcdb4a_6517_11eb_a20c_c0e43441f24erow4_col1\" class=\"data row4 col1\" >0.01</td>\n",
       "                        <td id=\"T_34dcdb4a_6517_11eb_a20c_c0e43441f24erow4_col2\" class=\"data row4 col2\" >0.05</td>\n",
       "                        <td id=\"T_34dcdb4a_6517_11eb_a20c_c0e43441f24erow4_col3\" class=\"data row4 col3\" >0.06</td>\n",
       "                        <td id=\"T_34dcdb4a_6517_11eb_a20c_c0e43441f24erow4_col4\" class=\"data row4 col4\" >1.00</td>\n",
       "                        <td id=\"T_34dcdb4a_6517_11eb_a20c_c0e43441f24erow4_col5\" class=\"data row4 col5\" >0.06</td>\n",
       "                        <td id=\"T_34dcdb4a_6517_11eb_a20c_c0e43441f24erow4_col6\" class=\"data row4 col6\" >-0.02</td>\n",
       "            </tr>\n",
       "            <tr>\n",
       "                        <th id=\"T_34dcdb4a_6517_11eb_a20c_c0e43441f24elevel0_row5\" class=\"row_heading level0 row5\" >revol_util</th>\n",
       "                        <td id=\"T_34dcdb4a_6517_11eb_a20c_c0e43441f24erow5_col0\" class=\"data row5 col0\" >0.28</td>\n",
       "                        <td id=\"T_34dcdb4a_6517_11eb_a20c_c0e43441f24erow5_col1\" class=\"data row5 col1\" >-0.05</td>\n",
       "                        <td id=\"T_34dcdb4a_6517_11eb_a20c_c0e43441f24erow5_col2\" class=\"data row5 col2\" >-0.02</td>\n",
       "                        <td id=\"T_34dcdb4a_6517_11eb_a20c_c0e43441f24erow5_col3\" class=\"data row5 col3\" >-0.05</td>\n",
       "                        <td id=\"T_34dcdb4a_6517_11eb_a20c_c0e43441f24erow5_col4\" class=\"data row5 col4\" >0.06</td>\n",
       "                        <td id=\"T_34dcdb4a_6517_11eb_a20c_c0e43441f24erow5_col5\" class=\"data row5 col5\" >1.00</td>\n",
       "                        <td id=\"T_34dcdb4a_6517_11eb_a20c_c0e43441f24erow5_col6\" class=\"data row5 col6\" >0.05</td>\n",
       "            </tr>\n",
       "            <tr>\n",
       "                        <th id=\"T_34dcdb4a_6517_11eb_a20c_c0e43441f24elevel0_row6\" class=\"row_heading level0 row6\" >verification_status</th>\n",
       "                        <td id=\"T_34dcdb4a_6517_11eb_a20c_c0e43441f24erow6_col0\" class=\"data row6 col0\" >0.03</td>\n",
       "                        <td id=\"T_34dcdb4a_6517_11eb_a20c_c0e43441f24erow6_col1\" class=\"data row6 col1\" >0.01</td>\n",
       "                        <td id=\"T_34dcdb4a_6517_11eb_a20c_c0e43441f24erow6_col2\" class=\"data row6 col2\" >0.06</td>\n",
       "                        <td id=\"T_34dcdb4a_6517_11eb_a20c_c0e43441f24erow6_col3\" class=\"data row6 col3\" >-0.02</td>\n",
       "                        <td id=\"T_34dcdb4a_6517_11eb_a20c_c0e43441f24erow6_col4\" class=\"data row6 col4\" >-0.02</td>\n",
       "                        <td id=\"T_34dcdb4a_6517_11eb_a20c_c0e43441f24erow6_col5\" class=\"data row6 col5\" >0.05</td>\n",
       "                        <td id=\"T_34dcdb4a_6517_11eb_a20c_c0e43441f24erow6_col6\" class=\"data row6 col6\" >1.00</td>\n",
       "            </tr>\n",
       "    </tbody></table>"
      ],
      "text/plain": [
       "<pandas.io.formats.style.Styler at 0x2aa63a7be08>"
      ]
     },
     "execution_count": 17,
     "metadata": {},
     "output_type": "execute_result"
    }
   ],
   "source": [
    "X.corr().style.background_gradient(cmap='coolwarm').set_precision(2)"
   ]
  },
  {
   "cell_type": "markdown",
   "metadata": {},
   "source": [
    "# Train/Test Split"
   ]
  },
  {
   "cell_type": "code",
   "execution_count": 18,
   "metadata": {},
   "outputs": [],
   "source": [
    "# Splitting into training and testing datasets\n",
    "from sklearn.model_selection import train_test_split\n",
    "X_train, X_test, y_train, y_test = train_test_split(X, y, test_size = 0.20, random_state = 2, shuffle = True, stratify = y)"
   ]
  },
  {
   "cell_type": "markdown",
   "metadata": {},
   "source": [
    "# Logistic Regression"
   ]
  },
  {
   "cell_type": "code",
   "execution_count": 19,
   "metadata": {},
   "outputs": [],
   "source": [
    "from sklearn.linear_model import LogisticRegression\n",
    "from sklearn.metrics import accuracy_score\n",
    "clf = LogisticRegression(max_iter=100000, solver = 'lbfgs')"
   ]
  },
  {
   "cell_type": "code",
   "execution_count": 20,
   "metadata": {},
   "outputs": [],
   "source": [
    "# fit the model\n",
    "clf.fit(X_train, y_train.ravel())\n",
    "\n",
    "# prediction for training dataset\n",
    "train_pred = clf.predict(X_train)\n",
    "\n",
    "# prediction for testing dataset\n",
    "test_pred = clf.predict(X_test)\n",
    "\n",
    "# actual probabilities\n",
    "test_pred_probs = clf.predict_proba(X_test)[:,1]"
   ]
  },
  {
   "cell_type": "code",
   "execution_count": 21,
   "metadata": {},
   "outputs": [
    {
     "name": "stdout",
     "output_type": "stream",
     "text": [
      "Optimization terminated successfully.\n",
      "         Current function value: 0.400813\n",
      "         Iterations 6\n"
     ]
    },
    {
     "data": {
      "text/html": [
       "<table class=\"simpletable\">\n",
       "<caption>Logit Regression Results</caption>\n",
       "<tr>\n",
       "  <th>Dep. Variable:</th>      <td>loan_status</td>   <th>  No. Observations:  </th>   <td> 39912</td>  \n",
       "</tr>\n",
       "<tr>\n",
       "  <th>Model:</th>                 <td>Logit</td>      <th>  Df Residuals:      </th>   <td> 39904</td>  \n",
       "</tr>\n",
       "<tr>\n",
       "  <th>Method:</th>                 <td>MLE</td>       <th>  Df Model:          </th>   <td>     7</td>  \n",
       "</tr>\n",
       "<tr>\n",
       "  <th>Date:</th>            <td>Mon, 01 Feb 2021</td> <th>  Pseudo R-squ.:     </th>   <td>0.02886</td> \n",
       "</tr>\n",
       "<tr>\n",
       "  <th>Time:</th>                <td>21:26:31</td>     <th>  Log-Likelihood:    </th>  <td> -15997.</td> \n",
       "</tr>\n",
       "<tr>\n",
       "  <th>converged:</th>             <td>True</td>       <th>  LL-Null:           </th>  <td> -16473.</td> \n",
       "</tr>\n",
       "<tr>\n",
       "  <th>Covariance Type:</th>     <td>nonrobust</td>    <th>  LLR p-value:       </th> <td>5.031e-201</td>\n",
       "</tr>\n",
       "</table>\n",
       "<table class=\"simpletable\">\n",
       "<tr>\n",
       "            <td></td>               <th>coef</th>     <th>std err</th>      <th>z</th>      <th>P>|z|</th>  <th>[0.025</th>    <th>0.975]</th>  \n",
       "</tr>\n",
       "<tr>\n",
       "  <th>const</th>                 <td>   -2.6685</td> <td>    0.054</td> <td>  -49.514</td> <td> 0.000</td> <td>   -2.774</td> <td>   -2.563</td>\n",
       "</tr>\n",
       "<tr>\n",
       "  <th>dti</th>                   <td>    0.0081</td> <td>    0.002</td> <td>    3.553</td> <td> 0.000</td> <td>    0.004</td> <td>    0.013</td>\n",
       "</tr>\n",
       "<tr>\n",
       "  <th>delinq_2yrs</th>           <td>    0.1221</td> <td>    0.027</td> <td>    4.605</td> <td> 0.000</td> <td>    0.070</td> <td>    0.174</td>\n",
       "</tr>\n",
       "<tr>\n",
       "  <th>credit_history_length</th> <td>   -0.0099</td> <td>    0.002</td> <td>   -4.391</td> <td> 0.000</td> <td>   -0.014</td> <td>   -0.006</td>\n",
       "</tr>\n",
       "<tr>\n",
       "  <th>inq_last_6mths</th>        <td>    0.1853</td> <td>    0.009</td> <td>   20.220</td> <td> 0.000</td> <td>    0.167</td> <td>    0.203</td>\n",
       "</tr>\n",
       "<tr>\n",
       "  <th>pub_rec</th>               <td>    0.4338</td> <td>    0.051</td> <td>    8.506</td> <td> 0.000</td> <td>    0.334</td> <td>    0.534</td>\n",
       "</tr>\n",
       "<tr>\n",
       "  <th>revol_util</th>            <td>    0.9828</td> <td>    0.054</td> <td>   18.085</td> <td> 0.000</td> <td>    0.876</td> <td>    1.089</td>\n",
       "</tr>\n",
       "<tr>\n",
       "  <th>verification_status</th>   <td>    0.2254</td> <td>    0.030</td> <td>    7.560</td> <td> 0.000</td> <td>    0.167</td> <td>    0.284</td>\n",
       "</tr>\n",
       "</table>"
      ],
      "text/plain": [
       "<class 'statsmodels.iolib.summary.Summary'>\n",
       "\"\"\"\n",
       "                           Logit Regression Results                           \n",
       "==============================================================================\n",
       "Dep. Variable:            loan_status   No. Observations:                39912\n",
       "Model:                          Logit   Df Residuals:                    39904\n",
       "Method:                           MLE   Df Model:                            7\n",
       "Date:                Mon, 01 Feb 2021   Pseudo R-squ.:                 0.02886\n",
       "Time:                        21:26:31   Log-Likelihood:                -15997.\n",
       "converged:                       True   LL-Null:                       -16473.\n",
       "Covariance Type:            nonrobust   LLR p-value:                5.031e-201\n",
       "=========================================================================================\n",
       "                            coef    std err          z      P>|z|      [0.025      0.975]\n",
       "-----------------------------------------------------------------------------------------\n",
       "const                    -2.6685      0.054    -49.514      0.000      -2.774      -2.563\n",
       "dti                       0.0081      0.002      3.553      0.000       0.004       0.013\n",
       "delinq_2yrs               0.1221      0.027      4.605      0.000       0.070       0.174\n",
       "credit_history_length    -0.0099      0.002     -4.391      0.000      -0.014      -0.006\n",
       "inq_last_6mths            0.1853      0.009     20.220      0.000       0.167       0.203\n",
       "pub_rec                   0.4338      0.051      8.506      0.000       0.334       0.534\n",
       "revol_util                0.9828      0.054     18.085      0.000       0.876       1.089\n",
       "verification_status       0.2254      0.030      7.560      0.000       0.167       0.284\n",
       "=========================================================================================\n",
       "\"\"\""
      ]
     },
     "execution_count": 21,
     "metadata": {},
     "output_type": "execute_result"
    }
   ],
   "source": [
    "import statsmodels.api as sm\n",
    "\n",
    "X1 = sm.add_constant(X)\n",
    "\n",
    "logit_model = sm.Logit(y, X1)\n",
    "\n",
    "result = logit_model.fit()\n",
    "result.summary()"
   ]
  },
  {
   "cell_type": "markdown",
   "metadata": {},
   "source": [
    "# Accruacy - No Optimal Cutoff"
   ]
  },
  {
   "cell_type": "code",
   "execution_count": 22,
   "metadata": {},
   "outputs": [
    {
     "data": {
      "image/png": "[encoded data removed]",
      "text/plain": [
       "<Figure size 432x288 with 2 Axes>"
      ]
     },
     "metadata": {
      "needs_background": "light"
     },
     "output_type": "display_data"
    }
   ],
   "source": [
    "cm = confusion_matrix(y_test, test_pred)\n",
    "fig, ax = plot_confusion_matrix(conf_mat=cm, show_absolute=True, show_normed=True, colorbar=True)\n",
    "plt.show()"
   ]
  },
  {
   "cell_type": "markdown",
   "metadata": {},
   "source": [
    "# Optimal Cutoff"
   ]
  },
  {
   "cell_type": "code",
   "execution_count": 23,
   "metadata": {},
   "outputs": [],
   "source": [
    "def Find_Optimal_Cutoff(y_test, test_pred_probs):\n",
    "    fpr, tpr, thresholds = metrics.roc_curve(y_test, test_pred_probs)\n",
    "    i = np.arange(len(tpr))\n",
    "    roc = pd.DataFrame({'tf': pd.Series(tpr-(1-fpr), index=i), 'threshold': pd.Series(thresholds, index=i)})\n",
    "    roc_t = roc.loc[(roc.tf-0).abs().argsort()[:1]]\n",
    "    return list(roc_t['threshold'])"
   ]
  },
  {
   "cell_type": "code",
   "execution_count": 24,
   "metadata": {},
   "outputs": [
    {
     "name": "stdout",
     "output_type": "stream",
     "text": [
      "[0.1443528433024836]\n"
     ]
    }
   ],
   "source": [
    "threshold = Find_Optimal_Cutoff(y_test, test_pred_probs)\n",
    "print(threshold)"
   ]
  },
  {
   "cell_type": "markdown",
   "metadata": {},
   "source": [
    "# Confusion Matrix Using Optimal Cutoff"
   ]
  },
  {
   "cell_type": "code",
   "execution_count": 25,
   "metadata": {},
   "outputs": [],
   "source": [
    "# fit the model\n",
    "clf.fit(X_train, y_train.ravel())\n",
    "\n",
    "# prediction for testing dataset\n",
    "test_pred = (clf.predict_proba(X_test)[:,1] >= threshold).astype(bool)\n",
    "\n",
    "# actual probabilities\n",
    "test_pred_probs = clf.predict_proba(X_test)[:,1]\n",
    "\n",
    "train_pred_probs = clf.predict_proba(X_train)[:,1]"
   ]
  },
  {
   "cell_type": "code",
   "execution_count": 26,
   "metadata": {},
   "outputs": [
    {
     "data": {
      "image/png": "[encoded data removed]",
      "text/plain": [
       "<Figure size 432x288 with 2 Axes>"
      ]
     },
     "metadata": {
      "needs_background": "light"
     },
     "output_type": "display_data"
    }
   ],
   "source": [
    "cm = confusion_matrix(y_test, test_pred)\n",
    "fig, ax = plot_confusion_matrix(conf_mat=cm, show_absolute=True, show_normed=True, colorbar=True)\n",
    "plt.show()"
   ]
  },
  {
   "cell_type": "code",
   "execution_count": 27,
   "metadata": {},
   "outputs": [],
   "source": [
    "fpr, tpr, threshold = metrics.roc_curve(y_test, test_pred_probs)\n",
    "roc_auc = auc(fpr, tpr)"
   ]
  },
  {
   "cell_type": "code",
   "execution_count": 28,
   "metadata": {},
   "outputs": [],
   "source": [
    "def plot_roc_curve(fpr, tpr):\n",
    "    plt.plot(fpr, tpr, 'b', label='AUC = %0.2f'% roc_auc)\n",
    "    plt.legend(loc='lower right')\n",
    "    plt.plot([0, 1], [0, 1], color='red', linestyle='--')\n",
    "    plt.xlabel('False Positive Rate')\n",
    "    plt.ylabel('True Positive Rate')\n",
    "    plt.title('Receiver Operating Characteristic (ROC) Curve')\n",
    "    plt.show()"
   ]
  },
  {
   "cell_type": "code",
   "execution_count": 29,
   "metadata": {},
   "outputs": [
    {
     "data": {
      "image/png": "[encoded data removed]",
      "text/plain": [
       "<Figure size 432x288 with 1 Axes>"
      ]
     },
     "metadata": {
      "needs_background": "light"
     },
     "output_type": "display_data"
    }
   ],
   "source": [
    "plot_roc_curve(fpr, tpr)"
   ]
  }
 ],
 "metadata": {
  "kernelspec": {
   "display_name": "Python 3",
   "language": "python",
   "name": "python3"
  },
  "language_info": {
   "codemirror_mode": {
    "name": "ipython",
    "version": 3
   },
   "file_extension": ".py",
   "mimetype": "text/x-python",
   "name": "python",
   "nbconvert_exporter": "python",
   "pygments_lexer": "ipython3",
   "version": "3.7.6"
  }
 },
 "nbformat": 4,
 "nbformat_minor": 4
}
